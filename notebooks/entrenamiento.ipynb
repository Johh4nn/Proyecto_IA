{
 "cells": [
  {
   "cell_type": "code",
   "execution_count": 11,
   "id": "f50165f5",
   "metadata": {},
   "outputs": [],
   "source": [
    "# ----------------------------\n",
    "# Paso 1: Configurar Kaggle API\n",
    "# ----------------------------\n",
    "import os\n",
    "import json\n",
    "import zipfile\n",
    "import nltk"
   ]
  },
  {
   "cell_type": "code",
   "execution_count": 2,
   "id": "0b2a65e5",
   "metadata": {},
   "outputs": [],
   "source": [
    "# Crear carpeta de configuración de Kaggle\n",
    "os.makedirs(os.path.expanduser('~/.kaggle'), exist_ok=True)\n",
    "\n",
    "# Copiar kaggle.json a ~/.kaggle/kaggle.json\n",
    "with open('../kaggle.json') as f:\n",
    "    kaggle_token = json.load(f)\n",
    "\n",
    "with open(os.path.expanduser('~/.kaggle/kaggle.json'), 'w') as f:\n",
    "    json.dump(kaggle_token, f)\n",
    "\n",
    "# Dar permisos (solo en Linux, se ignora en Windows)\n",
    "os.chmod(os.path.expanduser('~/.kaggle/kaggle.json'), 0o600)"
   ]
  },
  {
   "cell_type": "code",
   "execution_count": 3,
   "id": "81d1a66c",
   "metadata": {},
   "outputs": [],
   "source": [
    "# Instalar kaggle si no está\n",
    "!pip install -q kaggle"
   ]
  },
  {
   "cell_type": "code",
   "execution_count": 4,
   "id": "d257cac7",
   "metadata": {},
   "outputs": [
    {
     "name": "stdout",
     "output_type": "stream",
     "text": [
      "Dataset URL: https://www.kaggle.com/datasets/lakshmi25npathi/imdb-dataset-of-50k-movie-reviews\n",
      "License(s): other\n",
      "Downloading imdb-dataset-of-50k-movie-reviews.zip to c:\\Users\\USER\\Documents\\Proyecto_IA\\notebooks\n",
      "\n"
     ]
    },
    {
     "name": "stderr",
     "output_type": "stream",
     "text": [
      "\n",
      "  0%|          | 0.00/25.7M [00:00<?, ?B/s]\n",
      "100%|██████████| 25.7M/25.7M [00:00<00:00, 1.09GB/s]\n"
     ]
    }
   ],
   "source": [
    "\n",
    "# ----------------------------\n",
    "# Paso 2: Descargar el dataset desde Kaggle\n",
    "# ----------------------------\n",
    "\n",
    "!kaggle datasets download -d lakshmi25npathi/imdb-dataset-of-50k-movie-reviews\n",
    "\n",
    "\n",
    "\n"
   ]
  },
  {
   "cell_type": "code",
   "execution_count": 5,
   "id": "09530a91",
   "metadata": {},
   "outputs": [
    {
     "name": "stdout",
     "output_type": "stream",
     "text": [
      "✅ Dataset descargado y extraído correctamente.\n"
     ]
    }
   ],
   "source": [
    "# ----------------------------\n",
    "# Paso 3: Descomprimir el ZIP usando Python (compatible con Windows)\n",
    "# ----------------------------\n",
    "\n",
    "# Crear carpeta para guardar datos crudos\n",
    "os.makedirs('../data/raw/', exist_ok=True)\n",
    "\n",
    "# Ruta del archivo descargado\n",
    "zip_path = 'imdb-dataset-of-50k-movie-reviews.zip'\n",
    "extract_path = '../data/raw/'\n",
    "\n",
    "# Extraer el contenido\n",
    "with zipfile.ZipFile(zip_path, 'r') as zip_ref:\n",
    "    zip_ref.extractall(extract_path)\n",
    "\n",
    "print(\"✅ Dataset descargado y extraído correctamente.\")"
   ]
  },
  {
   "cell_type": "code",
   "execution_count": 6,
   "id": "b8cf5533",
   "metadata": {},
   "outputs": [
    {
     "name": "stdout",
     "output_type": "stream",
     "text": [
      "                                              review sentiment\n",
      "0  One of the other reviewers has mentioned that ...  positive\n",
      "1  A wonderful little production. <br /><br />The...  positive\n",
      "2  I thought this was a wonderful way to spend ti...  positive\n",
      "3  Basically there's a family where a little boy ...  negative\n",
      "4  Petter Mattei's \"Love in the Time of Money\" is...  positive\n",
      "\n",
      "Total de reseñas: 50000\n",
      "sentiment\n",
      "positive    25000\n",
      "negative    25000\n",
      "Name: count, dtype: int64\n",
      "\n",
      "Datos nulos:\n",
      "review       0\n",
      "sentiment    0\n",
      "dtype: int64\n"
     ]
    }
   ],
   "source": [
    "# ----------------------------\n",
    "# Paso 4: Cargar y explorar los datos\n",
    "# ----------------------------\n",
    "\n",
    "import pandas as pd\n",
    "\n",
    "# Cargar el CSV extraído\n",
    "df = pd.read_csv('../data/raw/IMDB Dataset.csv')\n",
    "\n",
    "# Mostrar los primeros 5 registros\n",
    "print(df.head())\n",
    "\n",
    "# Ver cantidad total y distribución de sentimientos\n",
    "print(f\"\\nTotal de reseñas: {len(df)}\")\n",
    "print(df['sentiment'].value_counts())\n",
    "\n",
    "# Verificar si hay datos nulos\n",
    "print(\"\\nDatos nulos:\")\n",
    "print(df.isnull().sum())\n"
   ]
  },
  {
   "cell_type": "code",
   "execution_count": 14,
   "id": "2b27a953",
   "metadata": {},
   "outputs": [
    {
     "name": "stderr",
     "output_type": "stream",
     "text": [
      "[nltk_data] Downloading package punkt to\n",
      "[nltk_data]     C:\\Users\\USER\\AppData\\Roaming\\nltk_data...\n",
      "[nltk_data]   Package punkt is already up-to-date!\n",
      "[nltk_data] Downloading package punkt_tab to\n",
      "[nltk_data]     C:\\Users\\USER\\AppData\\Roaming\\nltk_data...\n",
      "[nltk_data]   Unzipping tokenizers\\punkt_tab.zip.\n"
     ]
    },
    {
     "name": "stdout",
     "output_type": "stream",
     "text": [
      "                                              review sentiment\n",
      "0  one reviewers mentioned watching oz episode yo...  positive\n",
      "1  wonderful little production filming technique ...  positive\n",
      "2  thought wonderful way spend time hot summer we...  positive\n",
      "3  basically theres family little boy jake thinks...  negative\n",
      "4  petter matteis love time money visually stunni...  positive\n",
      "✅ Dataset limpiado y guardado en data/processed/imdb_limpio.csv\n"
     ]
    }
   ],
   "source": [
    "import sys\n",
    "import os\n",
    "sys.path.append(os.path.abspath('..'))\n",
    "\n",
    "# Descargar recursos punkt y punkt_tab de NLTK si no están presentes\n",
    "import nltk\n",
    "nltk.download('punkt')\n",
    "nltk.download('punkt_tab')\n",
    "\n",
    "from utils.preprocessing import limpiar_dataset\n",
    "\n",
    "# Aplicar limpieza\n",
    "df_limpio = limpiar_dataset(df, texto_col='review', etiqueta_col='sentiment')\n",
    "\n",
    "# Ver muestra del resultado\n",
    "print(df_limpio.head())\n",
    "\n",
    "# Guardar CSV limpio en carpeta processed\n",
    "os.makedirs('../data/processed/', exist_ok=True)\n",
    "df_limpio.to_csv('../data/processed/imdb_limpio.csv', index=False)\n",
    "\n",
    "print(\"✅ Dataset limpiado y guardado en data/processed/imdb_limpio.csv\")"
   ]
  },
  {
   "cell_type": "code",
   "execution_count": null,
   "id": "eea82c59",
   "metadata": {},
   "outputs": [],
   "source": []
  }
 ],
 "metadata": {
  "kernelspec": {
   "display_name": "Python 3",
   "language": "python",
   "name": "python3"
  },
  "language_info": {
   "codemirror_mode": {
    "name": "ipython",
    "version": 3
   },
   "file_extension": ".py",
   "mimetype": "text/x-python",
   "name": "python",
   "nbconvert_exporter": "python",
   "pygments_lexer": "ipython3",
   "version": "3.13.3"
  }
 },
 "nbformat": 4,
 "nbformat_minor": 5
}
